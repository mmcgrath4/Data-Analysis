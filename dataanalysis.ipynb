{
 "cells": [
  {
   "cell_type": "markdown",
   "metadata": {},
   "source": [
    "\n",
    "# NFL Offensive Team Data Exploration\n",
    "\n",
    "Dataset: Kaggle dataset on NFL offensive data from 2003-2023. \n",
    "\n",
    "Business Understanding/Goal: Get some information about offensive football in recent history!"
   ]
  },
  {
   "cell_type": "markdown",
   "metadata": {},
   "source": [
    "## 1. Import Libraries"
   ]
  },
  {
   "cell_type": "code",
   "execution_count": 29,
   "metadata": {},
   "outputs": [],
   "source": [
    "import pandas as pd\n",
    "import matplotlib.pyplot as plt\n",
    "import seaborn as sns\n",
    "\n",
    "pd.set_option(\"display.max_columns\", 200)"
   ]
  },
  {
   "cell_type": "markdown",
   "metadata": {},
   "source": [
    "## 2. Load the Dataset"
   ]
  },
  {
   "cell_type": "code",
   "execution_count": 30,
   "metadata": {},
   "outputs": [],
   "source": [
    "df = pd.read_csv(\"data/team_stats_2003_2023.csv\")"
   ]
  },
  {
   "cell_type": "markdown",
   "metadata": {},
   "source": [
    "## 3. Understand the Data"
   ]
  },
  {
   "cell_type": "code",
   "execution_count": 31,
   "metadata": {},
   "outputs": [
    {
     "name": "stdout",
     "output_type": "stream",
     "text": [
      "<class 'pandas.core.frame.DataFrame'>\n",
      "RangeIndex: 672 entries, 0 to 671\n",
      "Data columns (total 35 columns):\n",
      " #   Column                Non-Null Count  Dtype  \n",
      "---  ------                --------------  -----  \n",
      " 0   year                  672 non-null    int64  \n",
      " 1   team                  672 non-null    object \n",
      " 2   wins                  672 non-null    int64  \n",
      " 3   losses                672 non-null    int64  \n",
      " 4   win_loss_perc         672 non-null    float64\n",
      " 5   points                672 non-null    int64  \n",
      " 6   points_opp            672 non-null    int64  \n",
      " 7   points_diff           672 non-null    int64  \n",
      " 8   mov                   352 non-null    float64\n",
      " 9   g                     672 non-null    int64  \n",
      " 10  total_yards           672 non-null    int64  \n",
      " 11  plays_offense         672 non-null    int64  \n",
      " 12  yds_per_play_offense  672 non-null    float64\n",
      " 13  turnovers             672 non-null    int64  \n",
      " 14  fumbles_lost          672 non-null    int64  \n",
      " 15  first_down            672 non-null    int64  \n",
      " 16  pass_cmp              672 non-null    int64  \n",
      " 17  pass_att              672 non-null    int64  \n",
      " 18  pass_yds              672 non-null    int64  \n",
      " 19  pass_td               672 non-null    int64  \n",
      " 20  pass_int              672 non-null    int64  \n",
      " 21  pass_net_yds_per_att  672 non-null    float64\n",
      " 22  pass_fd               672 non-null    int64  \n",
      " 23  rush_att              672 non-null    int64  \n",
      " 24  rush_yds              672 non-null    int64  \n",
      " 25  rush_td               672 non-null    int64  \n",
      " 26  rush_yds_per_att      672 non-null    float64\n",
      " 27  rush_fd               672 non-null    int64  \n",
      " 28  penalties             672 non-null    int64  \n",
      " 29  penalties_yds         672 non-null    int64  \n",
      " 30  pen_fd                672 non-null    int64  \n",
      " 31  score_pct             672 non-null    float64\n",
      " 32  turnover_pct          672 non-null    float64\n",
      " 33  exp_pts_tot           672 non-null    float64\n",
      " 34  ties                  320 non-null    float64\n",
      "dtypes: float64(9), int64(25), object(1)\n",
      "memory usage: 183.9+ KB\n"
     ]
    }
   ],
   "source": [
    "df.shape\n",
    "df.info()"
   ]
  },
  {
   "cell_type": "markdown",
   "metadata": {},
   "source": [
    "Columns that seem useful:\n",
    "year, team, wins, losses, win_loss_perc, points, points_diff, total_yards, yds_per_play_offense, turnovers, pass_att, pass_net_yds_per_att, pass_td, pass_int, fumbles_lost, rush_att, rush_td, rush_yds_per_att, penalties,\n",
    "penalties_yds, score_pct, turnover_pct, exp_pts_tot"
   ]
  },
  {
   "cell_type": "code",
   "execution_count": null,
   "metadata": {},
   "outputs": [],
   "source": [
    "df.head(10)\n",
    "# df.describe()"
   ]
  },
  {
   "cell_type": "markdown",
   "metadata": {},
   "source": [
    "## 4. Data Processing/Preparation"
   ]
  },
  {
   "cell_type": "markdown",
   "metadata": {},
   "source": [
    "### 4.1. Dropping Unnecessary Columns"
   ]
  },
  {
   "cell_type": "code",
   "execution_count": 3,
   "metadata": {},
   "outputs": [
    {
     "data": {
      "text/plain": [
       "Index(['year', 'team', 'wins', 'losses', 'win_loss_perc', 'points',\n",
       "       'points_opp', 'points_diff', 'mov', 'g', 'total_yards', 'plays_offense',\n",
       "       'yds_per_play_offense', 'turnovers', 'fumbles_lost', 'first_down',\n",
       "       'pass_cmp', 'pass_att', 'pass_yds', 'pass_td', 'pass_int',\n",
       "       'pass_net_yds_per_att', 'pass_fd', 'rush_att', 'rush_yds', 'rush_td',\n",
       "       'rush_yds_per_att', 'rush_fd', 'penalties', 'penalties_yds', 'pen_fd',\n",
       "       'score_pct', 'turnover_pct', 'exp_pts_tot', 'ties'],\n",
       "      dtype='object')"
      ]
     },
     "execution_count": 3,
     "metadata": {},
     "output_type": "execute_result"
    }
   ],
   "source": [
    "df.columns"
   ]
  },
  {
   "cell_type": "code",
   "execution_count": 8,
   "metadata": {},
   "outputs": [
    {
     "data": {
      "text/html": [
       "<div>\n",
       "<style scoped>\n",
       "    .dataframe tbody tr th:only-of-type {\n",
       "        vertical-align: middle;\n",
       "    }\n",
       "\n",
       "    .dataframe tbody tr th {\n",
       "        vertical-align: top;\n",
       "    }\n",
       "\n",
       "    .dataframe thead th {\n",
       "        text-align: right;\n",
       "    }\n",
       "</style>\n",
       "<table border=\"1\" class=\"dataframe\">\n",
       "  <thead>\n",
       "    <tr style=\"text-align: right;\">\n",
       "      <th></th>\n",
       "      <th>year</th>\n",
       "      <th>team</th>\n",
       "      <th>win_loss_perc</th>\n",
       "      <th>points</th>\n",
       "      <th>points_diff</th>\n",
       "      <th>total_yards</th>\n",
       "      <th>g</th>\n",
       "      <th>yds_per_play_offense</th>\n",
       "      <th>turnovers</th>\n",
       "      <th>fumbles_lost</th>\n",
       "      <th>pass_att</th>\n",
       "      <th>pass_yds</th>\n",
       "      <th>pass_td</th>\n",
       "      <th>pass_int</th>\n",
       "      <th>pass_net_yds_per_att</th>\n",
       "      <th>rush_att</th>\n",
       "      <th>rush_yds</th>\n",
       "      <th>rush_td</th>\n",
       "      <th>rush_yds_per_att</th>\n",
       "      <th>penalties</th>\n",
       "      <th>penalties_yds</th>\n",
       "    </tr>\n",
       "  </thead>\n",
       "  <tbody>\n",
       "    <tr>\n",
       "      <th>0</th>\n",
       "      <td>2003</td>\n",
       "      <td>New England Patriots</td>\n",
       "      <td>0.875</td>\n",
       "      <td>348</td>\n",
       "      <td>110</td>\n",
       "      <td>5039</td>\n",
       "      <td>16</td>\n",
       "      <td>4.8</td>\n",
       "      <td>24</td>\n",
       "      <td>11</td>\n",
       "      <td>537</td>\n",
       "      <td>3432</td>\n",
       "      <td>23</td>\n",
       "      <td>13</td>\n",
       "      <td>6.0</td>\n",
       "      <td>473</td>\n",
       "      <td>1607</td>\n",
       "      <td>9</td>\n",
       "      <td>3.4</td>\n",
       "      <td>111</td>\n",
       "      <td>998</td>\n",
       "    </tr>\n",
       "    <tr>\n",
       "      <th>1</th>\n",
       "      <td>2003</td>\n",
       "      <td>Miami Dolphins</td>\n",
       "      <td>0.625</td>\n",
       "      <td>311</td>\n",
       "      <td>50</td>\n",
       "      <td>4609</td>\n",
       "      <td>16</td>\n",
       "      <td>4.8</td>\n",
       "      <td>34</td>\n",
       "      <td>15</td>\n",
       "      <td>450</td>\n",
       "      <td>2792</td>\n",
       "      <td>17</td>\n",
       "      <td>19</td>\n",
       "      <td>5.8</td>\n",
       "      <td>487</td>\n",
       "      <td>1817</td>\n",
       "      <td>14</td>\n",
       "      <td>3.7</td>\n",
       "      <td>103</td>\n",
       "      <td>913</td>\n",
       "    </tr>\n",
       "    <tr>\n",
       "      <th>2</th>\n",
       "      <td>2003</td>\n",
       "      <td>Buffalo Bills</td>\n",
       "      <td>0.375</td>\n",
       "      <td>243</td>\n",
       "      <td>-36</td>\n",
       "      <td>4348</td>\n",
       "      <td>16</td>\n",
       "      <td>4.4</td>\n",
       "      <td>34</td>\n",
       "      <td>17</td>\n",
       "      <td>502</td>\n",
       "      <td>2684</td>\n",
       "      <td>11</td>\n",
       "      <td>17</td>\n",
       "      <td>4.9</td>\n",
       "      <td>427</td>\n",
       "      <td>1664</td>\n",
       "      <td>13</td>\n",
       "      <td>3.9</td>\n",
       "      <td>106</td>\n",
       "      <td>891</td>\n",
       "    </tr>\n",
       "    <tr>\n",
       "      <th>3</th>\n",
       "      <td>2003</td>\n",
       "      <td>New York Jets</td>\n",
       "      <td>0.375</td>\n",
       "      <td>283</td>\n",
       "      <td>-16</td>\n",
       "      <td>4951</td>\n",
       "      <td>16</td>\n",
       "      <td>5.3</td>\n",
       "      <td>20</td>\n",
       "      <td>6</td>\n",
       "      <td>496</td>\n",
       "      <td>3316</td>\n",
       "      <td>20</td>\n",
       "      <td>14</td>\n",
       "      <td>6.3</td>\n",
       "      <td>409</td>\n",
       "      <td>1635</td>\n",
       "      <td>8</td>\n",
       "      <td>4.0</td>\n",
       "      <td>69</td>\n",
       "      <td>550</td>\n",
       "    </tr>\n",
       "    <tr>\n",
       "      <th>4</th>\n",
       "      <td>2003</td>\n",
       "      <td>Baltimore Ravens</td>\n",
       "      <td>0.625</td>\n",
       "      <td>391</td>\n",
       "      <td>110</td>\n",
       "      <td>4929</td>\n",
       "      <td>16</td>\n",
       "      <td>4.9</td>\n",
       "      <td>38</td>\n",
       "      <td>19</td>\n",
       "      <td>415</td>\n",
       "      <td>2255</td>\n",
       "      <td>16</td>\n",
       "      <td>19</td>\n",
       "      <td>4.9</td>\n",
       "      <td>552</td>\n",
       "      <td>2674</td>\n",
       "      <td>18</td>\n",
       "      <td>4.8</td>\n",
       "      <td>126</td>\n",
       "      <td>970</td>\n",
       "    </tr>\n",
       "  </tbody>\n",
       "</table>\n",
       "</div>"
      ],
      "text/plain": [
       "   year                  team  win_loss_perc  points  points_diff  \\\n",
       "0  2003  New England Patriots          0.875     348          110   \n",
       "1  2003        Miami Dolphins          0.625     311           50   \n",
       "2  2003         Buffalo Bills          0.375     243          -36   \n",
       "3  2003         New York Jets          0.375     283          -16   \n",
       "4  2003      Baltimore Ravens          0.625     391          110   \n",
       "\n",
       "   total_yards   g  yds_per_play_offense  turnovers  fumbles_lost  pass_att  \\\n",
       "0         5039  16                   4.8         24            11       537   \n",
       "1         4609  16                   4.8         34            15       450   \n",
       "2         4348  16                   4.4         34            17       502   \n",
       "3         4951  16                   5.3         20             6       496   \n",
       "4         4929  16                   4.9         38            19       415   \n",
       "\n",
       "   pass_yds  pass_td  pass_int  pass_net_yds_per_att  rush_att  rush_yds  \\\n",
       "0      3432       23        13                   6.0       473      1607   \n",
       "1      2792       17        19                   5.8       487      1817   \n",
       "2      2684       11        17                   4.9       427      1664   \n",
       "3      3316       20        14                   6.3       409      1635   \n",
       "4      2255       16        19                   4.9       552      2674   \n",
       "\n",
       "   rush_td  rush_yds_per_att  penalties  penalties_yds  \n",
       "0        9               3.4        111            998  \n",
       "1       14               3.7        103            913  \n",
       "2       13               3.9        106            891  \n",
       "3        8               4.0         69            550  \n",
       "4       18               4.8        126            970  "
      ]
     },
     "execution_count": 8,
     "metadata": {},
     "output_type": "execute_result"
    }
   ],
   "source": [
    "df = df[['year', 'team', 'win_loss_perc', 'points',\n",
    "       'points_diff', 'total_yards', 'g',\n",
    "       'yds_per_play_offense', 'turnovers', 'fumbles_lost',\n",
    "       'pass_att', 'pass_yds', 'pass_td', 'pass_int',\n",
    "       'pass_net_yds_per_att', 'rush_att', 'rush_yds', 'rush_td',\n",
    "       'rush_yds_per_att', 'penalties', 'penalties_yds']]\n",
    "df.head(5)"
   ]
  },
  {
   "cell_type": "markdown",
   "metadata": {},
   "source": [
    "Got rid of wins, losses, points_opp, mov, plays_offense, etc."
   ]
  },
  {
   "cell_type": "markdown",
   "metadata": {},
   "source": [
    "### 4.2 Checking for Duplicates"
   ]
  },
  {
   "cell_type": "code",
   "execution_count": null,
   "metadata": {},
   "outputs": [],
   "source": [
    "df.duplicated().sum()"
   ]
  },
  {
   "cell_type": "markdown",
   "metadata": {},
   "source": [
    "There are no duplicated rows so I don't have to do anything with it."
   ]
  },
  {
   "cell_type": "markdown",
   "metadata": {},
   "source": [
    "### 4.3 Null Data"
   ]
  },
  {
   "cell_type": "code",
   "execution_count": null,
   "metadata": {},
   "outputs": [],
   "source": [
    "df.isna().sum()"
   ]
  },
  {
   "cell_type": "markdown",
   "metadata": {},
   "source": [
    "There is no null data."
   ]
  },
  {
   "cell_type": "markdown",
   "metadata": {},
   "source": [
    "I am satisfied with how the data looks and because it is all numerical besides the teams, I do not have to do any string formatting"
   ]
  },
  {
   "cell_type": "markdown",
   "metadata": {},
   "source": [
    "### Question 1: How has the pass/run balance changed throughout the years?"
   ]
  },
  {
   "cell_type": "code",
   "execution_count": null,
   "metadata": {},
   "outputs": [],
   "source": [
    "recent = df.loc[df[\"year\"]==2023]\n",
    "recent[\"pass_att\"].mean()"
   ]
  },
  {
   "cell_type": "markdown",
   "metadata": {},
   "source": [
    "Teams averaged 572 pass attempts in 2023. "
   ]
  },
  {
   "cell_type": "code",
   "execution_count": null,
   "metadata": {},
   "outputs": [],
   "source": [
    "oldest = df.loc[df[\"year\"]==2003]\n",
    "oldest[\"pass_att\"].mean()"
   ]
  },
  {
   "cell_type": "markdown",
   "metadata": {},
   "source": [
    "Teams averaged 515 pass attempts in 2003, so we have seen an increase in how many times teams throw the ball. "
   ]
  },
  {
   "cell_type": "code",
   "execution_count": 26,
   "metadata": {},
   "outputs": [
    {
     "data": {
      "text/plain": [
       "16.0"
      ]
     },
     "execution_count": 26,
     "metadata": {},
     "output_type": "execute_result"
    }
   ],
   "source": [
    "oldest[\"g\"].mean()"
   ]
  },
  {
   "cell_type": "code",
   "execution_count": 29,
   "metadata": {},
   "outputs": [
    {
     "data": {
      "text/plain": [
       "17.0"
      ]
     },
     "execution_count": 29,
     "metadata": {},
     "output_type": "execute_result"
    }
   ],
   "source": [
    "recent[\"g\"].mean()"
   ]
  },
  {
   "cell_type": "markdown",
   "metadata": {},
   "source": [
    "However, the schedule length also increased from 16 regular season games to 17 in 2021. One more game could also lead to an increase in pass attempts. A more fitting way to evaluate how much a team is passing the ball vs running the ball is to look at the ratio of the two. "
   ]
  },
  {
   "cell_type": "code",
   "execution_count": 30,
   "metadata": {},
   "outputs": [
    {
     "data": {
      "text/plain": [
       "1.136821064240419"
      ]
     },
     "execution_count": 30,
     "metadata": {},
     "output_type": "execute_result"
    }
   ],
   "source": [
    "oldest[\"pass_att\"].mean() / oldest[\"rush_att\"].mean()"
   ]
  },
  {
   "cell_type": "code",
   "execution_count": 31,
   "metadata": {},
   "outputs": [
    {
     "data": {
      "text/plain": [
       "1.253936738326715"
      ]
     },
     "execution_count": 31,
     "metadata": {},
     "output_type": "execute_result"
    }
   ],
   "source": [
    "recent[\"pass_att\"].mean() / recent[\"rush_att\"].mean()"
   ]
  },
  {
   "cell_type": "markdown",
   "metadata": {},
   "source": [
    "The league has shifted to a more pass heavy offensive strategy, but not by much."
   ]
  },
  {
   "cell_type": "markdown",
   "metadata": {},
   "source": [
    "Let's look at which year was the most pass-heavy."
   ]
  },
  {
   "cell_type": "code",
   "execution_count": 11,
   "metadata": {},
   "outputs": [
    {
     "data": {
      "text/html": [
       "<div>\n",
       "<style scoped>\n",
       "    .dataframe tbody tr th:only-of-type {\n",
       "        vertical-align: middle;\n",
       "    }\n",
       "\n",
       "    .dataframe tbody tr th {\n",
       "        vertical-align: top;\n",
       "    }\n",
       "\n",
       "    .dataframe thead th {\n",
       "        text-align: right;\n",
       "    }\n",
       "</style>\n",
       "<table border=\"1\" class=\"dataframe\">\n",
       "  <thead>\n",
       "    <tr style=\"text-align: right;\">\n",
       "      <th></th>\n",
       "      <th>year</th>\n",
       "      <th>team</th>\n",
       "      <th>win_loss_perc</th>\n",
       "      <th>points</th>\n",
       "      <th>points_diff</th>\n",
       "      <th>total_yards</th>\n",
       "      <th>g</th>\n",
       "      <th>yds_per_play_offense</th>\n",
       "      <th>turnovers</th>\n",
       "      <th>fumbles_lost</th>\n",
       "      <th>pass_att</th>\n",
       "      <th>pass_yds</th>\n",
       "      <th>pass_td</th>\n",
       "      <th>pass_int</th>\n",
       "      <th>pass_net_yds_per_att</th>\n",
       "      <th>rush_att</th>\n",
       "      <th>rush_yds</th>\n",
       "      <th>rush_td</th>\n",
       "      <th>rush_yds_per_att</th>\n",
       "      <th>penalties</th>\n",
       "      <th>penalties_yds</th>\n",
       "      <th>pass_to_run</th>\n",
       "    </tr>\n",
       "  </thead>\n",
       "  <tbody>\n",
       "    <tr>\n",
       "      <th>0</th>\n",
       "      <td>2003</td>\n",
       "      <td>New England Patriots</td>\n",
       "      <td>0.875</td>\n",
       "      <td>348</td>\n",
       "      <td>110</td>\n",
       "      <td>5039</td>\n",
       "      <td>16</td>\n",
       "      <td>4.8</td>\n",
       "      <td>24</td>\n",
       "      <td>11</td>\n",
       "      <td>537</td>\n",
       "      <td>3432</td>\n",
       "      <td>23</td>\n",
       "      <td>13</td>\n",
       "      <td>6.0</td>\n",
       "      <td>473</td>\n",
       "      <td>1607</td>\n",
       "      <td>9</td>\n",
       "      <td>3.4</td>\n",
       "      <td>111</td>\n",
       "      <td>998</td>\n",
       "      <td>1.135307</td>\n",
       "    </tr>\n",
       "    <tr>\n",
       "      <th>1</th>\n",
       "      <td>2003</td>\n",
       "      <td>Miami Dolphins</td>\n",
       "      <td>0.625</td>\n",
       "      <td>311</td>\n",
       "      <td>50</td>\n",
       "      <td>4609</td>\n",
       "      <td>16</td>\n",
       "      <td>4.8</td>\n",
       "      <td>34</td>\n",
       "      <td>15</td>\n",
       "      <td>450</td>\n",
       "      <td>2792</td>\n",
       "      <td>17</td>\n",
       "      <td>19</td>\n",
       "      <td>5.8</td>\n",
       "      <td>487</td>\n",
       "      <td>1817</td>\n",
       "      <td>14</td>\n",
       "      <td>3.7</td>\n",
       "      <td>103</td>\n",
       "      <td>913</td>\n",
       "      <td>0.924025</td>\n",
       "    </tr>\n",
       "    <tr>\n",
       "      <th>2</th>\n",
       "      <td>2003</td>\n",
       "      <td>Buffalo Bills</td>\n",
       "      <td>0.375</td>\n",
       "      <td>243</td>\n",
       "      <td>-36</td>\n",
       "      <td>4348</td>\n",
       "      <td>16</td>\n",
       "      <td>4.4</td>\n",
       "      <td>34</td>\n",
       "      <td>17</td>\n",
       "      <td>502</td>\n",
       "      <td>2684</td>\n",
       "      <td>11</td>\n",
       "      <td>17</td>\n",
       "      <td>4.9</td>\n",
       "      <td>427</td>\n",
       "      <td>1664</td>\n",
       "      <td>13</td>\n",
       "      <td>3.9</td>\n",
       "      <td>106</td>\n",
       "      <td>891</td>\n",
       "      <td>1.175644</td>\n",
       "    </tr>\n",
       "    <tr>\n",
       "      <th>3</th>\n",
       "      <td>2003</td>\n",
       "      <td>New York Jets</td>\n",
       "      <td>0.375</td>\n",
       "      <td>283</td>\n",
       "      <td>-16</td>\n",
       "      <td>4951</td>\n",
       "      <td>16</td>\n",
       "      <td>5.3</td>\n",
       "      <td>20</td>\n",
       "      <td>6</td>\n",
       "      <td>496</td>\n",
       "      <td>3316</td>\n",
       "      <td>20</td>\n",
       "      <td>14</td>\n",
       "      <td>6.3</td>\n",
       "      <td>409</td>\n",
       "      <td>1635</td>\n",
       "      <td>8</td>\n",
       "      <td>4.0</td>\n",
       "      <td>69</td>\n",
       "      <td>550</td>\n",
       "      <td>1.212714</td>\n",
       "    </tr>\n",
       "    <tr>\n",
       "      <th>4</th>\n",
       "      <td>2003</td>\n",
       "      <td>Baltimore Ravens</td>\n",
       "      <td>0.625</td>\n",
       "      <td>391</td>\n",
       "      <td>110</td>\n",
       "      <td>4929</td>\n",
       "      <td>16</td>\n",
       "      <td>4.9</td>\n",
       "      <td>38</td>\n",
       "      <td>19</td>\n",
       "      <td>415</td>\n",
       "      <td>2255</td>\n",
       "      <td>16</td>\n",
       "      <td>19</td>\n",
       "      <td>4.9</td>\n",
       "      <td>552</td>\n",
       "      <td>2674</td>\n",
       "      <td>18</td>\n",
       "      <td>4.8</td>\n",
       "      <td>126</td>\n",
       "      <td>970</td>\n",
       "      <td>0.751812</td>\n",
       "    </tr>\n",
       "  </tbody>\n",
       "</table>\n",
       "</div>"
      ],
      "text/plain": [
       "   year                  team  win_loss_perc  points  points_diff  \\\n",
       "0  2003  New England Patriots          0.875     348          110   \n",
       "1  2003        Miami Dolphins          0.625     311           50   \n",
       "2  2003         Buffalo Bills          0.375     243          -36   \n",
       "3  2003         New York Jets          0.375     283          -16   \n",
       "4  2003      Baltimore Ravens          0.625     391          110   \n",
       "\n",
       "   total_yards   g  yds_per_play_offense  turnovers  fumbles_lost  pass_att  \\\n",
       "0         5039  16                   4.8         24            11       537   \n",
       "1         4609  16                   4.8         34            15       450   \n",
       "2         4348  16                   4.4         34            17       502   \n",
       "3         4951  16                   5.3         20             6       496   \n",
       "4         4929  16                   4.9         38            19       415   \n",
       "\n",
       "   pass_yds  pass_td  pass_int  pass_net_yds_per_att  rush_att  rush_yds  \\\n",
       "0      3432       23        13                   6.0       473      1607   \n",
       "1      2792       17        19                   5.8       487      1817   \n",
       "2      2684       11        17                   4.9       427      1664   \n",
       "3      3316       20        14                   6.3       409      1635   \n",
       "4      2255       16        19                   4.9       552      2674   \n",
       "\n",
       "   rush_td  rush_yds_per_att  penalties  penalties_yds  pass_to_run  \n",
       "0        9               3.4        111            998     1.135307  \n",
       "1       14               3.7        103            913     0.924025  \n",
       "2       13               3.9        106            891     1.175644  \n",
       "3        8               4.0         69            550     1.212714  \n",
       "4       18               4.8        126            970     0.751812  "
      ]
     },
     "execution_count": 11,
     "metadata": {},
     "output_type": "execute_result"
    }
   ],
   "source": [
    "# Create new column with this ratio\n",
    "df[\"pass_to_run\"] = df[\"pass_att\"] / df[\"rush_att\"]\n",
    "df.head(5)"
   ]
  },
  {
   "cell_type": "code",
   "execution_count": 12,
   "metadata": {},
   "outputs": [
    {
     "data": {
      "text/html": [
       "<div>\n",
       "<style scoped>\n",
       "    .dataframe tbody tr th:only-of-type {\n",
       "        vertical-align: middle;\n",
       "    }\n",
       "\n",
       "    .dataframe tbody tr th {\n",
       "        vertical-align: top;\n",
       "    }\n",
       "\n",
       "    .dataframe thead th {\n",
       "        text-align: right;\n",
       "    }\n",
       "</style>\n",
       "<table border=\"1\" class=\"dataframe\">\n",
       "  <thead>\n",
       "    <tr style=\"text-align: right;\">\n",
       "      <th></th>\n",
       "      <th>pass_to_run</th>\n",
       "    </tr>\n",
       "    <tr>\n",
       "      <th>year</th>\n",
       "      <th></th>\n",
       "    </tr>\n",
       "  </thead>\n",
       "  <tbody>\n",
       "    <tr>\n",
       "      <th>2016</th>\n",
       "      <td>1.391212</td>\n",
       "    </tr>\n",
       "  </tbody>\n",
       "</table>\n",
       "</div>"
      ],
      "text/plain": [
       "      pass_to_run\n",
       "year             \n",
       "2016     1.391212"
      ]
     },
     "execution_count": 12,
     "metadata": {},
     "output_type": "execute_result"
    }
   ],
   "source": [
    "grouped = df.groupby(\"year\")[[\"pass_to_run\"]].mean()\n",
    "grouped.loc[grouped[\"pass_to_run\"] == grouped[\"pass_to_run\"].max()]"
   ]
  },
  {
   "cell_type": "markdown",
   "metadata": {},
   "source": [
    "The league was the most pass heavy in 2016"
   ]
  },
  {
   "cell_type": "code",
   "execution_count": 64,
   "metadata": {},
   "outputs": [
    {
     "data": {
      "text/html": [
       "<div>\n",
       "<style scoped>\n",
       "    .dataframe tbody tr th:only-of-type {\n",
       "        vertical-align: middle;\n",
       "    }\n",
       "\n",
       "    .dataframe tbody tr th {\n",
       "        vertical-align: top;\n",
       "    }\n",
       "\n",
       "    .dataframe thead th {\n",
       "        text-align: right;\n",
       "    }\n",
       "</style>\n",
       "<table border=\"1\" class=\"dataframe\">\n",
       "  <thead>\n",
       "    <tr style=\"text-align: right;\">\n",
       "      <th></th>\n",
       "      <th>pass_to_run</th>\n",
       "    </tr>\n",
       "    <tr>\n",
       "      <th>year</th>\n",
       "      <th></th>\n",
       "    </tr>\n",
       "  </thead>\n",
       "  <tbody>\n",
       "    <tr>\n",
       "      <th>2003</th>\n",
       "      <td>1.152893</td>\n",
       "    </tr>\n",
       "  </tbody>\n",
       "</table>\n",
       "</div>"
      ],
      "text/plain": [
       "      pass_to_run\n",
       "year             \n",
       "2003     1.152893"
      ]
     },
     "execution_count": 64,
     "metadata": {},
     "output_type": "execute_result"
    }
   ],
   "source": [
    "grouped.loc[grouped[\"pass_to_run\"] == grouped[\"pass_to_run\"].min()]"
   ]
  },
  {
   "cell_type": "markdown",
   "metadata": {},
   "source": [
    "The league was most run heavy in 2003"
   ]
  },
  {
   "cell_type": "code",
   "execution_count": 14,
   "metadata": {},
   "outputs": [
    {
     "data": {
      "text/plain": [
       "<Axes: title={'center': 'Pass:Run Ratio vs Year'}, xlabel='year', ylabel='pass_to_run'>"
      ]
     },
     "execution_count": 14,
     "metadata": {},
     "output_type": "execute_result"
    },
    {
     "data": {
      "image/png": "[encoded data removed]",
      "text/plain": [
       "<Figure size 640x480 with 1 Axes>"
      ]
     },
     "metadata": {},
     "output_type": "display_data"
    }
   ],
   "source": [
    "plt.title(\"Pass:Run Ratio vs Year\")\n",
    "\n",
    "sns.scatterplot(data=grouped, x=\"year\", y=\"pass_to_run\")\n"
   ]
  },
  {
   "cell_type": "markdown",
   "metadata": {},
   "source": [
    "Something weird happened with the years on the X-axis but we can see the general trend over the last 20 years. Teams have started to run the ball more in recent years. "
   ]
  },
  {
   "cell_type": "markdown",
   "metadata": {},
   "source": [
    "### Question 2: How are turnovers and win percentage related? "
   ]
  },
  {
   "cell_type": "code",
   "execution_count": 25,
   "metadata": {},
   "outputs": [
    {
     "data": {
      "text/plain": [
       "24.708333333333332"
      ]
     },
     "execution_count": 25,
     "metadata": {},
     "output_type": "execute_result"
    }
   ],
   "source": [
    "df[\"turnovers\"].mean()"
   ]
  },
  {
   "cell_type": "code",
   "execution_count": 22,
   "metadata": {},
   "outputs": [
    {
     "data": {
      "text/plain": [
       "<Axes: title={'center': 'Win Percentage vs Turnovers'}, xlabel='turnovers', ylabel='win_loss_perc'>"
      ]
     },
     "execution_count": 22,
     "metadata": {},
     "output_type": "execute_result"
    },
    {
     "data": {
      "image/png": "[encoded data removed]",
      "text/plain": [
       "<Figure size 640x480 with 1 Axes>"
      ]
     },
     "metadata": {},
     "output_type": "display_data"
    }
   ],
   "source": [
    "plt.title(\"Win Percentage vs Turnovers\")\n",
    "sns.scatterplot(data=df, x=\"turnovers\", y=\"win_loss_perc\")"
   ]
  },
  {
   "cell_type": "markdown",
   "metadata": {},
   "source": [
    "Pretty clear inverse relationship. Typicaly the more you turn the ball over, the worse you do. "
   ]
  },
  {
   "cell_type": "code",
   "execution_count": 18,
   "metadata": {},
   "outputs": [
    {
     "data": {
      "text/html": [
       "<div>\n",
       "<style scoped>\n",
       "    .dataframe tbody tr th:only-of-type {\n",
       "        vertical-align: middle;\n",
       "    }\n",
       "\n",
       "    .dataframe tbody tr th {\n",
       "        vertical-align: top;\n",
       "    }\n",
       "\n",
       "    .dataframe thead th {\n",
       "        text-align: right;\n",
       "    }\n",
       "</style>\n",
       "<table border=\"1\" class=\"dataframe\">\n",
       "  <thead>\n",
       "    <tr style=\"text-align: right;\">\n",
       "      <th></th>\n",
       "      <th>year</th>\n",
       "      <th>team</th>\n",
       "      <th>win_loss_perc</th>\n",
       "      <th>points</th>\n",
       "      <th>points_diff</th>\n",
       "      <th>total_yards</th>\n",
       "      <th>g</th>\n",
       "      <th>yds_per_play_offense</th>\n",
       "      <th>turnovers</th>\n",
       "      <th>fumbles_lost</th>\n",
       "      <th>pass_att</th>\n",
       "      <th>pass_yds</th>\n",
       "      <th>pass_td</th>\n",
       "      <th>pass_int</th>\n",
       "      <th>pass_net_yds_per_att</th>\n",
       "      <th>rush_att</th>\n",
       "      <th>rush_yds</th>\n",
       "      <th>rush_td</th>\n",
       "      <th>rush_yds_per_att</th>\n",
       "      <th>penalties</th>\n",
       "      <th>penalties_yds</th>\n",
       "      <th>pass_to_run</th>\n",
       "    </tr>\n",
       "  </thead>\n",
       "  <tbody>\n",
       "    <tr>\n",
       "      <th>128</th>\n",
       "      <td>2007</td>\n",
       "      <td>New England Patriots</td>\n",
       "      <td>1.0</td>\n",
       "      <td>589</td>\n",
       "      <td>315</td>\n",
       "      <td>6580</td>\n",
       "      <td>16</td>\n",
       "      <td>6.2</td>\n",
       "      <td>15</td>\n",
       "      <td>6</td>\n",
       "      <td>586</td>\n",
       "      <td>4731</td>\n",
       "      <td>50</td>\n",
       "      <td>9</td>\n",
       "      <td>7.8</td>\n",
       "      <td>451</td>\n",
       "      <td>1849</td>\n",
       "      <td>17</td>\n",
       "      <td>4.1</td>\n",
       "      <td>78</td>\n",
       "      <td>690</td>\n",
       "      <td>1.299335</td>\n",
       "    </tr>\n",
       "  </tbody>\n",
       "</table>\n",
       "</div>"
      ],
      "text/plain": [
       "     year                  team  win_loss_perc  points  points_diff  \\\n",
       "128  2007  New England Patriots            1.0     589          315   \n",
       "\n",
       "     total_yards   g  yds_per_play_offense  turnovers  fumbles_lost  pass_att  \\\n",
       "128         6580  16                   6.2         15             6       586   \n",
       "\n",
       "     pass_yds  pass_td  pass_int  pass_net_yds_per_att  rush_att  rush_yds  \\\n",
       "128      4731       50         9                   7.8       451      1849   \n",
       "\n",
       "     rush_td  rush_yds_per_att  penalties  penalties_yds  pass_to_run  \n",
       "128       17               4.1         78            690     1.299335  "
      ]
     },
     "execution_count": 18,
     "metadata": {},
     "output_type": "execute_result"
    }
   ],
   "source": [
    "df.loc[df[\"win_loss_perc\"] == df[\"win_loss_perc\"].max()]"
   ]
  },
  {
   "cell_type": "markdown",
   "metadata": {},
   "source": [
    "The 2007 Patriots went undefeated and only turned the ball over 15 times"
   ]
  },
  {
   "cell_type": "code",
   "execution_count": 19,
   "metadata": {},
   "outputs": [
    {
     "data": {
      "text/html": [
       "<div>\n",
       "<style scoped>\n",
       "    .dataframe tbody tr th:only-of-type {\n",
       "        vertical-align: middle;\n",
       "    }\n",
       "\n",
       "    .dataframe tbody tr th {\n",
       "        vertical-align: top;\n",
       "    }\n",
       "\n",
       "    .dataframe thead th {\n",
       "        text-align: right;\n",
       "    }\n",
       "</style>\n",
       "<table border=\"1\" class=\"dataframe\">\n",
       "  <thead>\n",
       "    <tr style=\"text-align: right;\">\n",
       "      <th></th>\n",
       "      <th>year</th>\n",
       "      <th>team</th>\n",
       "      <th>win_loss_perc</th>\n",
       "      <th>points</th>\n",
       "      <th>points_diff</th>\n",
       "      <th>total_yards</th>\n",
       "      <th>g</th>\n",
       "      <th>yds_per_play_offense</th>\n",
       "      <th>turnovers</th>\n",
       "      <th>fumbles_lost</th>\n",
       "      <th>pass_att</th>\n",
       "      <th>pass_yds</th>\n",
       "      <th>pass_td</th>\n",
       "      <th>pass_int</th>\n",
       "      <th>pass_net_yds_per_att</th>\n",
       "      <th>rush_att</th>\n",
       "      <th>rush_yds</th>\n",
       "      <th>rush_td</th>\n",
       "      <th>rush_yds_per_att</th>\n",
       "      <th>penalties</th>\n",
       "      <th>penalties_yds</th>\n",
       "      <th>pass_to_run</th>\n",
       "    </tr>\n",
       "  </thead>\n",
       "  <tbody>\n",
       "    <tr>\n",
       "      <th>183</th>\n",
       "      <td>2008</td>\n",
       "      <td>Detroit Lions</td>\n",
       "      <td>0.0</td>\n",
       "      <td>268</td>\n",
       "      <td>-249</td>\n",
       "      <td>4292</td>\n",
       "      <td>16</td>\n",
       "      <td>4.7</td>\n",
       "      <td>29</td>\n",
       "      <td>10</td>\n",
       "      <td>509</td>\n",
       "      <td>2960</td>\n",
       "      <td>18</td>\n",
       "      <td>19</td>\n",
       "      <td>5.3</td>\n",
       "      <td>352</td>\n",
       "      <td>1332</td>\n",
       "      <td>10</td>\n",
       "      <td>3.8</td>\n",
       "      <td>88</td>\n",
       "      <td>729</td>\n",
       "      <td>1.446023</td>\n",
       "    </tr>\n",
       "    <tr>\n",
       "      <th>455</th>\n",
       "      <td>2017</td>\n",
       "      <td>Cleveland Browns</td>\n",
       "      <td>0.0</td>\n",
       "      <td>234</td>\n",
       "      <td>-176</td>\n",
       "      <td>4942</td>\n",
       "      <td>16</td>\n",
       "      <td>4.9</td>\n",
       "      <td>41</td>\n",
       "      <td>13</td>\n",
       "      <td>574</td>\n",
       "      <td>3228</td>\n",
       "      <td>15</td>\n",
       "      <td>28</td>\n",
       "      <td>5.2</td>\n",
       "      <td>384</td>\n",
       "      <td>1714</td>\n",
       "      <td>11</td>\n",
       "      <td>4.5</td>\n",
       "      <td>110</td>\n",
       "      <td>924</td>\n",
       "      <td>1.494792</td>\n",
       "    </tr>\n",
       "  </tbody>\n",
       "</table>\n",
       "</div>"
      ],
      "text/plain": [
       "     year              team  win_loss_perc  points  points_diff  total_yards  \\\n",
       "183  2008     Detroit Lions            0.0     268         -249         4292   \n",
       "455  2017  Cleveland Browns            0.0     234         -176         4942   \n",
       "\n",
       "      g  yds_per_play_offense  turnovers  fumbles_lost  pass_att  pass_yds  \\\n",
       "183  16                   4.7         29            10       509      2960   \n",
       "455  16                   4.9         41            13       574      3228   \n",
       "\n",
       "     pass_td  pass_int  pass_net_yds_per_att  rush_att  rush_yds  rush_td  \\\n",
       "183       18        19                   5.3       352      1332       10   \n",
       "455       15        28                   5.2       384      1714       11   \n",
       "\n",
       "     rush_yds_per_att  penalties  penalties_yds  pass_to_run  \n",
       "183               3.8         88            729     1.446023  \n",
       "455               4.5        110            924     1.494792  "
      ]
     },
     "execution_count": 19,
     "metadata": {},
     "output_type": "execute_result"
    }
   ],
   "source": [
    "df.loc[df[\"win_loss_perc\"] == df[\"win_loss_perc\"].min()]"
   ]
  },
  {
   "cell_type": "markdown",
   "metadata": {},
   "source": [
    "The 2008 Lions and 2017 Browns did not win any games and averaged 35 turnovers (above average). "
   ]
  },
  {
   "cell_type": "markdown",
   "metadata": {},
   "source": [
    "### Question 3: How do penalties impact a team's success?"
   ]
  },
  {
   "cell_type": "code",
   "execution_count": 26,
   "metadata": {},
   "outputs": [
    {
     "data": {
      "text/plain": [
       "101.49404761904762"
      ]
     },
     "execution_count": 26,
     "metadata": {},
     "output_type": "execute_result"
    }
   ],
   "source": [
    "df[\"penalties\"].mean()"
   ]
  },
  {
   "cell_type": "code",
   "execution_count": 23,
   "metadata": {},
   "outputs": [
    {
     "data": {
      "text/plain": [
       "<Axes: title={'center': 'Win percentage vs Penalties'}, xlabel='penalties', ylabel='win_loss_perc'>"
      ]
     },
     "execution_count": 23,
     "metadata": {},
     "output_type": "execute_result"
    },
    {
     "data": {
      "image/png": "[encoded data removed]",
      "text/plain": [
       "<Figure size 640x480 with 1 Axes>"
      ]
     },
     "metadata": {},
     "output_type": "display_data"
    }
   ],
   "source": [
    "plt.title(\"Win percentage vs Penalties\")\n",
    "sns.scatterplot(data=df, x=\"penalties\", y=\"win_loss_perc\")"
   ]
  },
  {
   "cell_type": "markdown",
   "metadata": {},
   "source": [
    "This data is very inconclusive."
   ]
  },
  {
   "cell_type": "code",
   "execution_count": 27,
   "metadata": {},
   "outputs": [
    {
     "data": {
      "text/plain": [
       "849.5014880952381"
      ]
     },
     "execution_count": 27,
     "metadata": {},
     "output_type": "execute_result"
    }
   ],
   "source": [
    "df[\"penalties_yds\"].mean()"
   ]
  },
  {
   "cell_type": "code",
   "execution_count": 28,
   "metadata": {},
   "outputs": [
    {
     "data": {
      "text/plain": [
       "8.369963638496275"
      ]
     },
     "execution_count": 28,
     "metadata": {},
     "output_type": "execute_result"
    }
   ],
   "source": [
    "df[\"penalties_yds\"].mean() / df[\"penalties\"].mean()"
   ]
  },
  {
   "cell_type": "markdown",
   "metadata": {},
   "source": [
    "This shows the average yds per penalty is around 8.4. Just an interesting fact."
   ]
  },
  {
   "cell_type": "code",
   "execution_count": 24,
   "metadata": {},
   "outputs": [
    {
     "data": {
      "text/plain": [
       "<Axes: title={'center': 'Win percentage vs Penalty Yards'}, xlabel='penalties_yds', ylabel='win_loss_perc'>"
      ]
     },
     "execution_count": 24,
     "metadata": {},
     "output_type": "execute_result"
    },
    {
     "data": {
      "image/png": "[encoded data removed]",
      "text/plain": [
       "<Figure size 640x480 with 1 Axes>"
      ]
     },
     "metadata": {},
     "output_type": "display_data"
    }
   ],
   "source": [
    "plt.title(\"Win percentage vs Penalty Yards\")\n",
    "sns.scatterplot(data=df, x=\"penalties_yds\", y=\"win_loss_perc\")"
   ]
  },
  {
   "cell_type": "markdown",
   "metadata": {},
   "source": [
    "Again, the data is very inconclusive. This graph suggests that penalties do not have a huge impact on team success. "
   ]
  },
  {
   "cell_type": "markdown",
   "metadata": {},
   "source": [
    "### Future Steps"
   ]
  },
  {
   "cell_type": "markdown",
   "metadata": {},
   "source": [
    "Uses:\n",
    "* analyze what stats lead to success for football teams\n",
    "* update with future years"
   ]
  },
  {
   "cell_type": "markdown",
   "metadata": {},
   "source": [
    "Machine Learning:\n",
    "* would be useful\n",
    "* could predict what ratio of run to pass leads to the most success for example"
   ]
  }
 ],
 "metadata": {
  "kernelspec": {
   "display_name": ".venv",
   "language": "python",
   "name": "python3"
  },
  "language_info": {
   "codemirror_mode": {
    "name": "ipython",
    "version": 3
   },
   "file_extension": ".py",
   "mimetype": "text/x-python",
   "name": "python",
   "nbconvert_exporter": "python",
   "pygments_lexer": "ipython3",
   "version": "3.8.2"
  },
  "orig_nbformat": 4
 },
 "nbformat": 4,
 "nbformat_minor": 2
}
